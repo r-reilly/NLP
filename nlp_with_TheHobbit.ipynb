{
 "cells": [
  {
   "cell_type": "code",
   "execution_count": 4,
   "metadata": {
    "ExecuteTime": {
     "end_time": "2019-06-21T01:52:11.829565Z",
     "start_time": "2019-06-21T01:52:08.966686Z"
    }
   },
   "outputs": [],
   "source": [
    "import gensim\n",
    "from gensim.models import Word2Vec\n",
    "import codecs\n",
    "import nltk\n",
    "import numpy as np\n",
    "import re\n",
    "import string\n",
    "\n",
    "from sklearn.manifold import TSNE\n",
    "\n",
    "import plotly\n",
    "import plotly.plotly as py\n",
    "import plotly.graph_objs as go\n",
    "from plotly.offline import download_plotlyjs, init_notebook_mode, plot, iplot"
   ]
  },
  {
   "cell_type": "markdown",
   "metadata": {},
   "source": [
    "## Text Import/Cleaning/Training"
   ]
  },
  {
   "cell_type": "code",
   "execution_count": 7,
   "metadata": {
    "ExecuteTime": {
     "end_time": "2019-06-21T01:52:25.700778Z",
     "start_time": "2019-06-21T01:52:25.695450Z"
    }
   },
   "outputs": [],
   "source": [
    "def preprocess(text):\n",
    "    text = re.sub('[^a-zA-Z1-9]+', ' ', text)\n",
    "    return text.lower().strip()\n",
    "\n",
    "\n",
    "def tokenize(text):\n",
    "    text = [preprocess(sent) for sent in nltk.sent_tokenize(text)]\n",
    "    tokenized = [nltk.word_tokenize(sent) for sent in text]\n",
    "    return tokenized\n",
    "\n",
    "\n",
    "def train_w2v(text):\n",
    "    return Word2Vec(text, min_count=10, window=3, size=200)"
   ]
  },
  {
   "cell_type": "markdown",
   "metadata": {},
   "source": [
    "encoding error: https://stackoverflow.com/questions/22216076/unicodedecodeerror-utf8-codec-cant-decode-byte-0xa5-in-position-0-invalid-s"
   ]
  },
  {
   "cell_type": "code",
   "execution_count": 8,
   "metadata": {
    "ExecuteTime": {
     "end_time": "2019-06-21T01:52:32.579464Z",
     "start_time": "2019-06-21T01:52:26.598883Z"
    }
   },
   "outputs": [],
   "source": [
    "hobbit = codecs.open('TheHobbit.txt', \"r\", encoding='windows-1251').read()\n",
    "text = tokenize(hobbit)\n",
    "model = train_w2v(text)"
   ]
  },
  {
   "cell_type": "markdown",
   "metadata": {},
   "source": [
    "## Save the model"
   ]
  },
  {
   "cell_type": "code",
   "execution_count": 11,
   "metadata": {
    "ExecuteTime": {
     "end_time": "2019-06-21T01:52:52.618390Z",
     "start_time": "2019-06-21T01:52:52.552356Z"
    }
   },
   "outputs": [],
   "source": [
    "model.save('hobbit_model')"
   ]
  },
  {
   "cell_type": "code",
   "execution_count": 10,
   "metadata": {
    "ExecuteTime": {
     "end_time": "2019-06-21T01:52:45.947391Z",
     "start_time": "2019-06-21T01:52:45.888927Z"
    }
   },
   "outputs": [],
   "source": [
    "hobbit_model = gensim.models.Word2Vec.load('hobbit_model')"
   ]
  },
  {
   "cell_type": "markdown",
   "metadata": {},
   "source": [
    "## Exploring the Model"
   ]
  },
  {
   "cell_type": "code",
   "execution_count": 13,
   "metadata": {
    "ExecuteTime": {
     "end_time": "2019-06-21T01:53:08.792839Z",
     "start_time": "2019-06-21T01:53:08.788953Z"
    }
   },
   "outputs": [
    {
     "data": {
      "text/plain": [
       "3571"
      ]
     },
     "execution_count": 13,
     "metadata": {},
     "output_type": "execute_result"
    }
   ],
   "source": [
    "len(hobbit_model.wv.vocab)"
   ]
  },
  {
   "cell_type": "code",
   "execution_count": 14,
   "metadata": {
    "ExecuteTime": {
     "end_time": "2019-06-21T01:53:21.567540Z",
     "start_time": "2019-06-21T01:53:21.556851Z"
    }
   },
   "outputs": [],
   "source": [
    "embeddings = [hobbit_model.wv[word] for word in list(hobbit_model.wv.vocab)]"
   ]
  },
  {
   "cell_type": "code",
   "execution_count": 15,
   "metadata": {
    "ExecuteTime": {
     "end_time": "2019-06-21T01:53:29.723696Z",
     "start_time": "2019-06-21T01:53:29.712263Z"
    }
   },
   "outputs": [
    {
     "data": {
      "text/plain": [
       "[('dwarf', 0.9155319333076477),\n",
       " ('wizard', 0.8913840651512146),\n",
       " ('gaffer', 0.845954179763794)]"
      ]
     },
     "execution_count": 15,
     "metadata": {},
     "output_type": "execute_result"
    }
   ],
   "source": [
    "hobbit_model.wv.most_similar('hobbit', topn=3)"
   ]
  },
  {
   "cell_type": "code",
   "execution_count": 21,
   "metadata": {
    "ExecuteTime": {
     "end_time": "2019-06-21T01:54:11.387925Z",
     "start_time": "2019-06-21T01:54:11.382563Z"
    }
   },
   "outputs": [
    {
     "data": {
      "text/plain": [
       "[('moria', 0.9295381903648376),\n",
       " ('isengard', 0.9287574887275696),\n",
       " ('rivendell', 0.9090243577957153)]"
      ]
     },
     "execution_count": 21,
     "metadata": {},
     "output_type": "execute_result"
    }
   ],
   "source": [
    "hobbit_model.wv.most_similar('mordor', topn=3)"
   ]
  },
  {
   "cell_type": "code",
   "execution_count": 19,
   "metadata": {
    "ExecuteTime": {
     "end_time": "2019-06-21T01:53:58.171182Z",
     "start_time": "2019-06-21T01:53:58.165168Z"
    }
   },
   "outputs": [
    {
     "data": {
      "text/plain": [
       "[('smaug', 0.9011658430099487),\n",
       " ('danger', 0.8894429206848145),\n",
       " ('isildur', 0.8842775225639343)]"
      ]
     },
     "execution_count": 19,
     "metadata": {},
     "output_type": "execute_result"
    }
   ],
   "source": [
    "hobbit_model.wv.most_similar('sauron', topn=3)"
   ]
  },
  {
   "cell_type": "markdown",
   "metadata": {},
   "source": [
    "## Plotting\n",
    "- Dimensionality reduction using t-SNE"
   ]
  },
  {
   "cell_type": "markdown",
   "metadata": {},
   "source": [
    "### 2D"
   ]
  },
  {
   "cell_type": "code",
   "execution_count": 22,
   "metadata": {
    "ExecuteTime": {
     "end_time": "2019-06-21T01:55:43.182165Z",
     "start_time": "2019-06-21T01:54:40.834365Z"
    }
   },
   "outputs": [],
   "source": [
    "tsne_2d = TSNE(n_components=2, init='pca', n_iter=3000)\n",
    "embeddings_2d = tsne_2d.fit_transform(embeddings)"
   ]
  },
  {
   "cell_type": "code",
   "execution_count": 23,
   "metadata": {
    "ExecuteTime": {
     "end_time": "2019-06-21T02:01:45.242909Z",
     "start_time": "2019-06-21T01:57:13.706525Z"
    }
   },
   "outputs": [
    {
     "name": "stderr",
     "output_type": "stream",
     "text": [
      "/anaconda3/envs/nlp/lib/python3.6/site-packages/IPython/core/display.py:689: UserWarning:\n",
      "\n",
      "Consider using IPython.display.IFrame instead\n",
      "\n"
     ]
    },
    {
     "data": {
      "text/html": [
       "<iframe id=\"igraph\" scrolling=\"no\" style=\"border:none;\" seamless=\"seamless\" src=\"https://plot.ly/~rreilly3/80.embed\" height=\"525px\" width=\"100%\"></iframe>"
      ],
      "text/plain": [
       "<chart_studio.tools.PlotlyDisplay object>"
      ]
     },
     "execution_count": 23,
     "metadata": {},
     "output_type": "execute_result"
    }
   ],
   "source": [
    "for i in range(len(embeddings_2d)):\n",
    "    trace0 = go.Scatter(\n",
    "        x=embeddings_2d[:, 0],\n",
    "        y=embeddings_2d[:, 1],\n",
    "        mode='markers',\n",
    "        marker=dict(color='green',\n",
    "                    size=5),\n",
    "        text=list(model.wv.vocab))\n",
    "\n",
    "data = [trace0]\n",
    "layout = go.Layout(\n",
    "    title='2D Representation of Word Vectors')\n",
    "\n",
    "\n",
    "fig = go.Figure(data=data, layout=layout)\n",
    "py.iplot(fig, filename='2d-scatter')"
   ]
  },
  {
   "cell_type": "markdown",
   "metadata": {},
   "source": [
    "### 3D"
   ]
  },
  {
   "cell_type": "code",
   "execution_count": 24,
   "metadata": {
    "ExecuteTime": {
     "end_time": "2019-06-21T02:06:34.911280Z",
     "start_time": "2019-06-21T02:02:22.557334Z"
    }
   },
   "outputs": [],
   "source": [
    "tsne_3d = TSNE(n_components=3, init='pca', n_iter=3000)\n",
    "embeddings_3d = tsne_3d.fit_transform(embeddings)"
   ]
  },
  {
   "cell_type": "code",
   "execution_count": 25,
   "metadata": {
    "ExecuteTime": {
     "end_time": "2019-06-21T02:11:50.302432Z",
     "start_time": "2019-06-21T02:07:22.866091Z"
    }
   },
   "outputs": [
    {
     "name": "stderr",
     "output_type": "stream",
     "text": [
      "/anaconda3/envs/nlp/lib/python3.6/site-packages/IPython/core/display.py:689: UserWarning:\n",
      "\n",
      "Consider using IPython.display.IFrame instead\n",
      "\n"
     ]
    },
    {
     "data": {
      "text/html": [
       "<iframe id=\"igraph\" scrolling=\"no\" style=\"border:none;\" seamless=\"seamless\" src=\"https://plot.ly/~rreilly3/82.embed\" height=\"525px\" width=\"100%\"></iframe>"
      ],
      "text/plain": [
       "<chart_studio.tools.PlotlyDisplay object>"
      ]
     },
     "execution_count": 25,
     "metadata": {},
     "output_type": "execute_result"
    }
   ],
   "source": [
    "for i in range(len(embeddings_3d)):\n",
    "    trace0 = go.Scatter3d(\n",
    "        x=embeddings_3d[:, 0],\n",
    "        y=embeddings_3d[:, 1],\n",
    "        z=embeddings_3d[:, 2],\n",
    "        mode='markers',\n",
    "        marker=dict(color='green',\n",
    "                    size=5),\n",
    "        text=list(model.wv.vocab))\n",
    "\n",
    "data = [trace0]\n",
    "layout = go.Layout(\n",
    "    title='3D Representation of Word Vectors')\n",
    "\n",
    "\n",
    "fig = go.Figure(data=data, layout=layout)\n",
    "py.iplot(fig, filename='3d-scatter')"
   ]
  },
  {
   "cell_type": "code",
   "execution_count": null,
   "metadata": {},
   "outputs": [],
   "source": []
  }
 ],
 "metadata": {
  "kernelspec": {
   "display_name": "Python 3",
   "language": "python",
   "name": "python3"
  },
  "language_info": {
   "codemirror_mode": {
    "name": "ipython",
    "version": 3
   },
   "file_extension": ".py",
   "mimetype": "text/x-python",
   "name": "python",
   "nbconvert_exporter": "python",
   "pygments_lexer": "ipython3",
   "version": "3.6.8"
  }
 },
 "nbformat": 4,
 "nbformat_minor": 2
}
