{
 "cells": [
  {
   "cell_type": "code",
   "execution_count": 1,
   "metadata": {
    "ExecuteTime": {
     "end_time": "2019-06-21T02:42:11.707614Z",
     "start_time": "2019-06-21T02:42:09.883718Z"
    }
   },
   "outputs": [],
   "source": [
    "import gensim\n",
    "from gensim.models import Word2Vec\n",
    "import codecs\n",
    "import nltk\n",
    "import numpy as np\n",
    "import re\n",
    "import string\n",
    "\n",
    "from sklearn.manifold import TSNE\n",
    "\n",
    "import plotly\n",
    "import plotly.plotly as py\n",
    "import plotly.graph_objs as go\n",
    "from plotly.offline import download_plotlyjs, init_notebook_mode, plot, iplot"
   ]
  },
  {
   "cell_type": "markdown",
   "metadata": {},
   "source": [
    "## Text Import/Cleaning/Training"
   ]
  },
  {
   "cell_type": "code",
   "execution_count": 2,
   "metadata": {
    "ExecuteTime": {
     "end_time": "2019-06-21T02:42:11.718089Z",
     "start_time": "2019-06-21T02:42:11.709341Z"
    }
   },
   "outputs": [],
   "source": [
    "def preprocess(text):\n",
    "    text = re.sub('[^a-zA-Z1-9]+', ' ', text)\n",
    "    return text.lower().strip()\n",
    "\n",
    "\n",
    "def tokenize(text):\n",
    "    text = [preprocess(sent) for sent in nltk.sent_tokenize(text)]\n",
    "    tokenized = [nltk.word_tokenize(sent) for sent in text]\n",
    "    return tokenized\n",
    "\n",
    "\n",
    "def train_w2v(text):\n",
    "    return Word2Vec(text, min_count=10, window=3, size=200)"
   ]
  },
  {
   "cell_type": "markdown",
   "metadata": {},
   "source": [
    "encoding error: https://stackoverflow.com/questions/22216076/unicodedecodeerror-utf8-codec-cant-decode-byte-0xa5-in-position-0-invalid-s"
   ]
  },
  {
   "cell_type": "code",
   "execution_count": 3,
   "metadata": {
    "ExecuteTime": {
     "end_time": "2019-06-21T02:42:17.505838Z",
     "start_time": "2019-06-21T02:42:11.720087Z"
    }
   },
   "outputs": [],
   "source": [
    "hobbit = codecs.open('TheHobbit.txt', \"r\", encoding='windows-1251').read()\n",
    "text = tokenize(hobbit)\n",
    "model = train_w2v(text)"
   ]
  },
  {
   "cell_type": "markdown",
   "metadata": {},
   "source": [
    "## Save the model"
   ]
  },
  {
   "cell_type": "code",
   "execution_count": null,
   "metadata": {
    "ExecuteTime": {
     "end_time": "2019-06-21T01:52:52.618390Z",
     "start_time": "2019-06-21T01:52:52.552356Z"
    }
   },
   "outputs": [],
   "source": [
    "model.save('hobbit_model')"
   ]
  },
  {
   "cell_type": "code",
   "execution_count": null,
   "metadata": {
    "ExecuteTime": {
     "end_time": "2019-06-21T01:52:45.947391Z",
     "start_time": "2019-06-21T01:52:45.888927Z"
    }
   },
   "outputs": [],
   "source": [
    "hobbit_model = gensim.models.Word2Vec.load('hobbit_model')"
   ]
  },
  {
   "cell_type": "markdown",
   "metadata": {},
   "source": [
    "## Exploring the Model"
   ]
  },
  {
   "cell_type": "code",
   "execution_count": null,
   "metadata": {
    "ExecuteTime": {
     "end_time": "2019-06-21T01:53:21.567540Z",
     "start_time": "2019-06-21T01:53:21.556851Z"
    }
   },
   "outputs": [],
   "source": [
    "embeddings = [hobbit_model.wv[word] for word in list(hobbit_model.wv.vocab)]"
   ]
  },
  {
   "cell_type": "code",
   "execution_count": null,
   "metadata": {
    "ExecuteTime": {
     "end_time": "2019-06-21T01:53:08.792839Z",
     "start_time": "2019-06-21T01:53:08.788953Z"
    }
   },
   "outputs": [],
   "source": [
    "len(hobbit_model.wv.vocab)"
   ]
  },
  {
   "cell_type": "code",
   "execution_count": null,
   "metadata": {
    "ExecuteTime": {
     "end_time": "2019-06-21T01:53:29.723696Z",
     "start_time": "2019-06-21T01:53:29.712263Z"
    }
   },
   "outputs": [],
   "source": [
    "hobbit_model.wv.most_similar('hobbit', topn=3)"
   ]
  },
  {
   "cell_type": "code",
   "execution_count": null,
   "metadata": {
    "ExecuteTime": {
     "end_time": "2019-06-21T01:54:11.387925Z",
     "start_time": "2019-06-21T01:54:11.382563Z"
    }
   },
   "outputs": [],
   "source": [
    "hobbit_model.wv.most_similar('mordor', topn=3)"
   ]
  },
  {
   "cell_type": "code",
   "execution_count": null,
   "metadata": {
    "ExecuteTime": {
     "end_time": "2019-06-21T01:53:58.171182Z",
     "start_time": "2019-06-21T01:53:58.165168Z"
    }
   },
   "outputs": [],
   "source": [
    "hobbit_model.wv.most_similar('sauron', topn=3)"
   ]
  },
  {
   "cell_type": "code",
   "execution_count": null,
   "metadata": {
    "ExecuteTime": {
     "end_time": "2019-06-21T02:41:01.715495Z",
     "start_time": "2019-06-21T02:41:01.708785Z"
    }
   },
   "outputs": [],
   "source": [
    "hobbit_model.wv.most_similar('legolas', topn=3)"
   ]
  },
  {
   "cell_type": "markdown",
   "metadata": {},
   "source": [
    "## Plotting\n",
    "- Dimensionality reduction using t-SNE"
   ]
  },
  {
   "cell_type": "markdown",
   "metadata": {},
   "source": [
    "### 2D"
   ]
  },
  {
   "cell_type": "code",
   "execution_count": null,
   "metadata": {
    "ExecuteTime": {
     "end_time": "2019-06-21T01:55:43.182165Z",
     "start_time": "2019-06-21T01:54:40.834365Z"
    }
   },
   "outputs": [],
   "source": [
    "tsne_2d = TSNE(n_components=2, init='pca', n_iter=3000)\n",
    "embeddings_2d = tsne_2d.fit_transform(embeddings)"
   ]
  },
  {
   "cell_type": "code",
   "execution_count": null,
   "metadata": {
    "ExecuteTime": {
     "end_time": "2019-06-21T02:21:08.909075Z",
     "start_time": "2019-06-21T02:16:33.791399Z"
    }
   },
   "outputs": [],
   "source": [
    "for i in range(len(embeddings_2d)):\n",
    "    trace0 = go.Scatter(\n",
    "        x=embeddings_2d[:, 0],\n",
    "        y=embeddings_2d[:, 1],\n",
    "        mode='markers',\n",
    "        marker=dict(color='green',\n",
    "                    size=5),\n",
    "        text=list(model.wv.vocab))\n",
    "\n",
    "data = [trace0]\n",
    "layout = go.Layout(\n",
    "    title='2D Representation of Word Vectors')\n",
    "\n",
    "\n",
    "fig = go.Figure(data=data, layout=layout)\n",
    "#py.iplot(fig, filename='2d-scatter')\n",
    "plot(fig, filename='hobbit-scatter-2d.html')"
   ]
  },
  {
   "cell_type": "markdown",
   "metadata": {},
   "source": [
    "### 3D"
   ]
  },
  {
   "cell_type": "code",
   "execution_count": null,
   "metadata": {
    "ExecuteTime": {
     "end_time": "2019-06-21T02:06:34.911280Z",
     "start_time": "2019-06-21T02:02:22.557334Z"
    }
   },
   "outputs": [],
   "source": [
    "tsne_3d = TSNE(n_components=3, init='pca', n_iter=3000)\n",
    "embeddings_3d = tsne_3d.fit_transform(embeddings)"
   ]
  },
  {
   "cell_type": "code",
   "execution_count": null,
   "metadata": {
    "ExecuteTime": {
     "end_time": "2019-06-21T02:26:10.186961Z",
     "start_time": "2019-06-21T02:21:33.469967Z"
    }
   },
   "outputs": [],
   "source": [
    "for i in range(len(embeddings_3d)):\n",
    "    trace0 = go.Scatter3d(\n",
    "        x=embeddings_3d[:, 0],\n",
    "        y=embeddings_3d[:, 1],\n",
    "        z=embeddings_3d[:, 2],\n",
    "        mode='markers',\n",
    "        marker=dict(color='green',\n",
    "                    size=5),\n",
    "        text=list(model.wv.vocab))\n",
    "\n",
    "data = [trace0]\n",
    "layout = go.Layout(\n",
    "    title='3D Representation of Word Vectors')\n",
    "\n",
    "\n",
    "fig = go.Figure(data=data, layout=layout)\n",
    "#py.iplot(fig, filename='3d-scatter')\n",
    "plot(fig, filename='hobbit-scatter-3d.html')"
   ]
  },
  {
   "cell_type": "markdown",
   "metadata": {},
   "source": [
    "## Topic Modeling"
   ]
  },
  {
   "cell_type": "code",
   "execution_count": null,
   "metadata": {},
   "outputs": [],
   "source": []
  },
  {
   "cell_type": "markdown",
   "metadata": {},
   "source": [
    "________"
   ]
  },
  {
   "cell_type": "markdown",
   "metadata": {},
   "source": [
    "# Bonus material that I'd like to dig further into"
   ]
  },
  {
   "cell_type": "markdown",
   "metadata": {},
   "source": [
    "## Text Generation\n",
    "- `textgenrnn` is a Python module for creating Character-Level RNNs\n",
    "- https://github.com/minimaxir/textgenrnn"
   ]
  },
  {
   "cell_type": "code",
   "execution_count": 2,
   "metadata": {
    "ExecuteTime": {
     "end_time": "2019-06-21T02:45:29.191260Z",
     "start_time": "2019-06-21T02:45:29.188696Z"
    }
   },
   "outputs": [],
   "source": [
    "from textgenrnn import textgenrnn"
   ]
  },
  {
   "cell_type": "code",
   "execution_count": 4,
   "metadata": {
    "ExecuteTime": {
     "end_time": "2019-06-21T03:46:20.622542Z",
     "start_time": "2019-06-21T02:46:03.796829Z"
    }
   },
   "outputs": [
    {
     "name": "stdout",
     "output_type": "stream",
     "text": [
      "38,474 texts collected.\n",
      "Training on 3,305,502 character sequences.\n",
      "Epoch 1/1\n",
      "25824/25824 [==============================] - 3605s 140ms/step - loss: 1.4203\n",
      "####################\n",
      "Temperature: 0.2\n",
      "####################\n",
      "     \"Now                                  |                                                                                                                                                                                                                                                               \n",
      "\n",
      "\n",
      "\n",
      "\n",
      "\n",
      "####################\n",
      "Temperature: 0.5\n",
      "####################\n",
      "\n",
      "\n",
      "\n",
      "\n",
      "\n",
      "\n",
      "####################\n",
      "Temperature: 1.0\n",
      "####################\n",
      "\n",
      "\n",
      "    'I  move the Orcs to them behold dinger would go to the talk  back himself, so far row and blew of the stone did not find in which tumnling as memory watcher-twine   and  wonder. Their cutturys tloads.    Bilbo was no mind to look quuting       to  the poor escape by the fact conceintily, at th\n",
      "\n",
      "     \"On water tales telling through by one of the Lord of the trees? White is we could spept again in stern way would    make my battles in the Defeace        were    broken.' \n",
      "\n",
      "impoo       in  a   and   things,   poweting   to   the   strange   day   the   window   of   the       things  and cellars     rode,   a   path   on   the   took   was   the   and   the   plain   of   the   hand   the   pass   were   the   light   the   stream   stood   the   thing before   the   \n",
      "\n"
     ]
    }
   ],
   "source": [
    "textgen = textgenrnn()\n",
    "textgen.train_from_file('TheHobbit.txt', num_epochs=1)\n",
    "textgen.generate()"
   ]
  },
  {
   "cell_type": "code",
   "execution_count": null,
   "metadata": {},
   "outputs": [],
   "source": []
  }
 ],
 "metadata": {
  "kernelspec": {
   "display_name": "Python 3",
   "language": "python",
   "name": "python3"
  },
  "language_info": {
   "codemirror_mode": {
    "name": "ipython",
    "version": 3
   },
   "file_extension": ".py",
   "mimetype": "text/x-python",
   "name": "python",
   "nbconvert_exporter": "python",
   "pygments_lexer": "ipython3",
   "version": "3.6.6"
  }
 },
 "nbformat": 4,
 "nbformat_minor": 2
}
